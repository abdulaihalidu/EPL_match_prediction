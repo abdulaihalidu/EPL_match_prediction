{
 "cells": [
  {
   "cell_type": "markdown",
   "id": "29b58cf0",
   "metadata": {},
   "source": [
    "### Football, better known as  soccer in the US and Canada, is Arguably the most popular sports in the world. Thus, it is necessary to make the most out of the game by carefully analyzing  matches, and to help improve the quality of the sport and the entertainment it brings.\n",
    "### In this task, I will be predicting the outcome of a game (win, draw, or lose) by the home team by carefully considering previous matches and other relevant infomation that might be helpful.\n",
    "### I was provided with the European Soccer Database that can be found at https://www.kaggle.com/datasets/hugomathien/soccer  for this analysis."
   ]
  },
  {
   "cell_type": "markdown",
   "id": "9aa5d56c",
   "metadata": {},
   "source": [
    "## NoteBook Imports"
   ]
  },
  {
   "cell_type": "code",
   "execution_count": 192,
   "id": "d2aa6eb8",
   "metadata": {},
   "outputs": [],
   "source": [
    "import numpy as np\n",
    "import pandas as pd\n",
    "import sqlite3\n",
    "\n",
    "from sklearn.model_selection import train_test_split\n",
    "from sklearn import model_selection\n",
    "from sklearn.neighbors import KNeighborsClassifier\n",
    "from sklearn.metrics import accuracy_score, confusion_matrix\n",
    "\n",
    "\n",
    "import matplotlib.pyplot as plt\n",
    "import seaborn as sns\n",
    "\n",
    "%matplotlib inline"
   ]
  },
  {
   "cell_type": "markdown",
   "id": "6f4dd387",
   "metadata": {},
   "source": [
    "## Dataset import and preprocessing"
   ]
  },
  {
   "cell_type": "code",
   "execution_count": 193,
   "id": "168261e9",
   "metadata": {},
   "outputs": [],
   "source": [
    "database = './database.sqlite'\n",
    "\n",
    "conn = sqlite3.connect(database)"
   ]
  },
  {
   "cell_type": "markdown",
   "id": "dc7fda90",
   "metadata": {},
   "source": [
    "#### The database contains 9 tables as listed below, but I won't be using all the tables for this purpose. Only the relevent tables and columns will be considered.\n",
    "##### 1. Country:\tA table containing the country name of soccer teams\n",
    "##### 2. League:\tA table containing the name of all the soccer leagues\n",
    "##### 3. Match:\tA table containing all the match details from 2007 to 2016\n",
    "##### 4. Player: A table containing all player ID and player name for all the teams\n",
    "##### 5. Player Attributes:\tA table containing additional information of all the players such as attacking ability, defensive ability, strength, etc.\n",
    "##### 6. Team:\tA table containing all the team ID and team name\n",
    "##### 7. Team Attributes: A table containing additional information of all the teams such as their attacking and defensive ability, etc.\n",
    "\n",
    "### I decided to focus my analysis on the English Premiere League since it is arguably the most followed League in the world."
   ]
  },
  {
   "cell_type": "code",
   "execution_count": 224,
   "id": "fef022fa",
   "metadata": {},
   "outputs": [],
   "source": [
    "dataset = pd.read_sql(\"\"\"SELECT \n",
    "                            Match.id,             \n",
    "                            League.name AS league_name, \n",
    "                            season, \n",
    "                            stage, \n",
    "                            date,\n",
    "                            HT.team_long_name AS  home_team,\n",
    "                            AT.team_long_name AS away_team,\n",
    "                            home_team_goal, \n",
    "                            away_team_goal                                        \n",
    "                        FROM Match\n",
    "                        JOIN Country on Country.id = Match.country_id\n",
    "                                JOIN League on League.id = Match.league_id\n",
    "                                LEFT JOIN Team AS HT on HT.team_api_id = Match.home_team_api_id\n",
    "                                LEFT JOIN Team AS AT on AT.team_api_id = Match.away_team_api_id\n",
    "                                WHERE Country.name = 'England'\n",
    "                                \n",
    "                                ORDER by date;\n",
    "                                \"\"\", conn)"
   ]
  },
  {
   "cell_type": "code",
   "execution_count": 274,
   "id": "39ed9456",
   "metadata": {},
   "outputs": [
    {
     "data": {
      "text/html": [
       "<div>\n",
       "<style scoped>\n",
       "    .dataframe tbody tr th:only-of-type {\n",
       "        vertical-align: middle;\n",
       "    }\n",
       "\n",
       "    .dataframe tbody tr th {\n",
       "        vertical-align: top;\n",
       "    }\n",
       "\n",
       "    .dataframe thead th {\n",
       "        text-align: right;\n",
       "    }\n",
       "</style>\n",
       "<table border=\"1\" class=\"dataframe\">\n",
       "  <thead>\n",
       "    <tr style=\"text-align: right;\">\n",
       "      <th></th>\n",
       "      <th>id</th>\n",
       "      <th>league_name</th>\n",
       "      <th>season</th>\n",
       "      <th>stage</th>\n",
       "      <th>date</th>\n",
       "      <th>home_team</th>\n",
       "      <th>away_team</th>\n",
       "      <th>home_team_goal</th>\n",
       "      <th>away_team_goal</th>\n",
       "    </tr>\n",
       "  </thead>\n",
       "  <tbody>\n",
       "    <tr>\n",
       "      <th>0</th>\n",
       "      <td>1730</td>\n",
       "      <td>England Premier League</td>\n",
       "      <td>2008/2009</td>\n",
       "      <td>1</td>\n",
       "      <td>2008-08-16 00:00:00</td>\n",
       "      <td>Arsenal</td>\n",
       "      <td>West Bromwich Albion</td>\n",
       "      <td>1</td>\n",
       "      <td>0</td>\n",
       "    </tr>\n",
       "    <tr>\n",
       "      <th>1</th>\n",
       "      <td>1731</td>\n",
       "      <td>England Premier League</td>\n",
       "      <td>2008/2009</td>\n",
       "      <td>1</td>\n",
       "      <td>2008-08-16 00:00:00</td>\n",
       "      <td>Sunderland</td>\n",
       "      <td>Liverpool</td>\n",
       "      <td>0</td>\n",
       "      <td>1</td>\n",
       "    </tr>\n",
       "    <tr>\n",
       "      <th>2</th>\n",
       "      <td>1732</td>\n",
       "      <td>England Premier League</td>\n",
       "      <td>2008/2009</td>\n",
       "      <td>1</td>\n",
       "      <td>2008-08-16 00:00:00</td>\n",
       "      <td>West Ham United</td>\n",
       "      <td>Wigan Athletic</td>\n",
       "      <td>2</td>\n",
       "      <td>1</td>\n",
       "    </tr>\n",
       "    <tr>\n",
       "      <th>3</th>\n",
       "      <td>1734</td>\n",
       "      <td>England Premier League</td>\n",
       "      <td>2008/2009</td>\n",
       "      <td>1</td>\n",
       "      <td>2008-08-16 00:00:00</td>\n",
       "      <td>Everton</td>\n",
       "      <td>Blackburn Rovers</td>\n",
       "      <td>2</td>\n",
       "      <td>3</td>\n",
       "    </tr>\n",
       "    <tr>\n",
       "      <th>4</th>\n",
       "      <td>1735</td>\n",
       "      <td>England Premier League</td>\n",
       "      <td>2008/2009</td>\n",
       "      <td>1</td>\n",
       "      <td>2008-08-16 00:00:00</td>\n",
       "      <td>Middlesbrough</td>\n",
       "      <td>Tottenham Hotspur</td>\n",
       "      <td>2</td>\n",
       "      <td>1</td>\n",
       "    </tr>\n",
       "    <tr>\n",
       "      <th>5</th>\n",
       "      <td>1736</td>\n",
       "      <td>England Premier League</td>\n",
       "      <td>2008/2009</td>\n",
       "      <td>1</td>\n",
       "      <td>2008-08-16 00:00:00</td>\n",
       "      <td>Bolton Wanderers</td>\n",
       "      <td>Stoke City</td>\n",
       "      <td>3</td>\n",
       "      <td>1</td>\n",
       "    </tr>\n",
       "    <tr>\n",
       "      <th>6</th>\n",
       "      <td>1737</td>\n",
       "      <td>England Premier League</td>\n",
       "      <td>2008/2009</td>\n",
       "      <td>1</td>\n",
       "      <td>2008-08-16 00:00:00</td>\n",
       "      <td>Hull City</td>\n",
       "      <td>Fulham</td>\n",
       "      <td>2</td>\n",
       "      <td>1</td>\n",
       "    </tr>\n",
       "    <tr>\n",
       "      <th>7</th>\n",
       "      <td>1729</td>\n",
       "      <td>England Premier League</td>\n",
       "      <td>2008/2009</td>\n",
       "      <td>1</td>\n",
       "      <td>2008-08-17 00:00:00</td>\n",
       "      <td>Manchester United</td>\n",
       "      <td>Newcastle United</td>\n",
       "      <td>1</td>\n",
       "      <td>1</td>\n",
       "    </tr>\n",
       "    <tr>\n",
       "      <th>8</th>\n",
       "      <td>1733</td>\n",
       "      <td>England Premier League</td>\n",
       "      <td>2008/2009</td>\n",
       "      <td>1</td>\n",
       "      <td>2008-08-17 00:00:00</td>\n",
       "      <td>Aston Villa</td>\n",
       "      <td>Manchester City</td>\n",
       "      <td>4</td>\n",
       "      <td>2</td>\n",
       "    </tr>\n",
       "    <tr>\n",
       "      <th>9</th>\n",
       "      <td>1738</td>\n",
       "      <td>England Premier League</td>\n",
       "      <td>2008/2009</td>\n",
       "      <td>1</td>\n",
       "      <td>2008-08-17 00:00:00</td>\n",
       "      <td>Chelsea</td>\n",
       "      <td>Portsmouth</td>\n",
       "      <td>4</td>\n",
       "      <td>0</td>\n",
       "    </tr>\n",
       "  </tbody>\n",
       "</table>\n",
       "</div>"
      ],
      "text/plain": [
       "     id             league_name     season  stage                 date  \\\n",
       "0  1730  England Premier League  2008/2009      1  2008-08-16 00:00:00   \n",
       "1  1731  England Premier League  2008/2009      1  2008-08-16 00:00:00   \n",
       "2  1732  England Premier League  2008/2009      1  2008-08-16 00:00:00   \n",
       "3  1734  England Premier League  2008/2009      1  2008-08-16 00:00:00   \n",
       "4  1735  England Premier League  2008/2009      1  2008-08-16 00:00:00   \n",
       "5  1736  England Premier League  2008/2009      1  2008-08-16 00:00:00   \n",
       "6  1737  England Premier League  2008/2009      1  2008-08-16 00:00:00   \n",
       "7  1729  England Premier League  2008/2009      1  2008-08-17 00:00:00   \n",
       "8  1733  England Premier League  2008/2009      1  2008-08-17 00:00:00   \n",
       "9  1738  England Premier League  2008/2009      1  2008-08-17 00:00:00   \n",
       "\n",
       "           home_team             away_team  home_team_goal  away_team_goal  \n",
       "0            Arsenal  West Bromwich Albion               1               0  \n",
       "1         Sunderland             Liverpool               0               1  \n",
       "2    West Ham United        Wigan Athletic               2               1  \n",
       "3            Everton      Blackburn Rovers               2               3  \n",
       "4      Middlesbrough     Tottenham Hotspur               2               1  \n",
       "5   Bolton Wanderers            Stoke City               3               1  \n",
       "6          Hull City                Fulham               2               1  \n",
       "7  Manchester United      Newcastle United               1               1  \n",
       "8        Aston Villa       Manchester City               4               2  \n",
       "9            Chelsea            Portsmouth               4               0  "
      ]
     },
     "execution_count": 274,
     "metadata": {},
     "output_type": "execute_result"
    }
   ],
   "source": [
    "dataset.head(10)"
   ]
  },
  {
   "cell_type": "code",
   "execution_count": 275,
   "id": "f4488297",
   "metadata": {},
   "outputs": [
    {
     "data": {
      "text/plain": [
       "id                0\n",
       "league_name       0\n",
       "season            0\n",
       "stage             0\n",
       "date              0\n",
       "home_team         0\n",
       "away_team         0\n",
       "home_team_goal    0\n",
       "away_team_goal    0\n",
       "dtype: int64"
      ]
     },
     "execution_count": 275,
     "metadata": {},
     "output_type": "execute_result"
    }
   ],
   "source": [
    "dataset.isnull().sum()"
   ]
  },
  {
   "cell_type": "markdown",
   "id": "ba903162",
   "metadata": {},
   "source": [
    "#### As can be observed, the chosen data does not contain any null values in any of the columns I have decided to use for the analysis. The most important features in this regard are the 'home_team_goal' and 'away_team_goal' features, as they determine the outcome of a match. Since the dataset is clean, let's run some statistics on the dataset."
   ]
  },
  {
   "cell_type": "code",
   "execution_count": 276,
   "id": "93e8e7a7",
   "metadata": {},
   "outputs": [
    {
     "data": {
      "text/html": [
       "<div>\n",
       "<style scoped>\n",
       "    .dataframe tbody tr th:only-of-type {\n",
       "        vertical-align: middle;\n",
       "    }\n",
       "\n",
       "    .dataframe tbody tr th {\n",
       "        vertical-align: top;\n",
       "    }\n",
       "\n",
       "    .dataframe thead th {\n",
       "        text-align: right;\n",
       "    }\n",
       "</style>\n",
       "<table border=\"1\" class=\"dataframe\">\n",
       "  <thead>\n",
       "    <tr style=\"text-align: right;\">\n",
       "      <th></th>\n",
       "      <th>id</th>\n",
       "      <th>stage</th>\n",
       "      <th>home_team_goal</th>\n",
       "      <th>away_team_goal</th>\n",
       "    </tr>\n",
       "  </thead>\n",
       "  <tbody>\n",
       "    <tr>\n",
       "      <th>count</th>\n",
       "      <td>3040.000000</td>\n",
       "      <td>3040.00000</td>\n",
       "      <td>3040.000000</td>\n",
       "      <td>3040.000000</td>\n",
       "    </tr>\n",
       "    <tr>\n",
       "      <th>mean</th>\n",
       "      <td>3248.500000</td>\n",
       "      <td>19.50000</td>\n",
       "      <td>1.550987</td>\n",
       "      <td>1.159539</td>\n",
       "    </tr>\n",
       "    <tr>\n",
       "      <th>std</th>\n",
       "      <td>877.716735</td>\n",
       "      <td>10.96766</td>\n",
       "      <td>1.311615</td>\n",
       "      <td>1.144629</td>\n",
       "    </tr>\n",
       "    <tr>\n",
       "      <th>min</th>\n",
       "      <td>1729.000000</td>\n",
       "      <td>1.00000</td>\n",
       "      <td>0.000000</td>\n",
       "      <td>0.000000</td>\n",
       "    </tr>\n",
       "    <tr>\n",
       "      <th>25%</th>\n",
       "      <td>2488.750000</td>\n",
       "      <td>10.00000</td>\n",
       "      <td>1.000000</td>\n",
       "      <td>0.000000</td>\n",
       "    </tr>\n",
       "    <tr>\n",
       "      <th>50%</th>\n",
       "      <td>3248.500000</td>\n",
       "      <td>19.50000</td>\n",
       "      <td>1.000000</td>\n",
       "      <td>1.000000</td>\n",
       "    </tr>\n",
       "    <tr>\n",
       "      <th>75%</th>\n",
       "      <td>4008.250000</td>\n",
       "      <td>29.00000</td>\n",
       "      <td>2.000000</td>\n",
       "      <td>2.000000</td>\n",
       "    </tr>\n",
       "    <tr>\n",
       "      <th>max</th>\n",
       "      <td>4768.000000</td>\n",
       "      <td>38.00000</td>\n",
       "      <td>9.000000</td>\n",
       "      <td>6.000000</td>\n",
       "    </tr>\n",
       "  </tbody>\n",
       "</table>\n",
       "</div>"
      ],
      "text/plain": [
       "                id       stage  home_team_goal  away_team_goal\n",
       "count  3040.000000  3040.00000     3040.000000     3040.000000\n",
       "mean   3248.500000    19.50000        1.550987        1.159539\n",
       "std     877.716735    10.96766        1.311615        1.144629\n",
       "min    1729.000000     1.00000        0.000000        0.000000\n",
       "25%    2488.750000    10.00000        1.000000        0.000000\n",
       "50%    3248.500000    19.50000        1.000000        1.000000\n",
       "75%    4008.250000    29.00000        2.000000        2.000000\n",
       "max    4768.000000    38.00000        9.000000        6.000000"
      ]
     },
     "execution_count": 276,
     "metadata": {},
     "output_type": "execute_result"
    }
   ],
   "source": [
    "dataset.describe()"
   ]
  },
  {
   "cell_type": "markdown",
   "id": "233489e0",
   "metadata": {},
   "source": [
    "## Discussion of the Dataset statistics\n",
    "### From the results of the above cell, it can be seen that, on average, a home team scores roughly 1.6 (2) goals per game, whilst an away team scores 1.2 (1) goal per game. The first thing I can make out this statistics is that, home teams turn to have a higher chance of winning a game since they turn to score more goals than the away team. In addittion, the maximum number of goals scored by a home team is 9, whiles that of an away team is 6. 75% of the time, both the home and away teams score two goals. This however, does not directly imply that 75% of the time, matches end in a draw. Lastly, the values of the std let's us know that, the goals scored by  home teams has higher variance than that of  away. The goals scored by away teams are very close to each other in numbers. Althogh goals scored by home teams are also closer to each other (std of 1.311), they are not as close to each other as that of away teams."
   ]
  },
  {
   "cell_type": "markdown",
   "id": "0bdc4883",
   "metadata": {},
   "source": [
    "### The dataset presented above gives us some insight, but it would be nice to have a subset of the dataset that will only show us a summary of these insights (create a score board). Let's do that next!"
   ]
  },
  {
   "cell_type": "code",
   "execution_count": 277,
   "id": "0c82e5c7",
   "metadata": {},
   "outputs": [
    {
     "data": {
      "text/html": [
       "<div>\n",
       "<style scoped>\n",
       "    .dataframe tbody tr th:only-of-type {\n",
       "        vertical-align: middle;\n",
       "    }\n",
       "\n",
       "    .dataframe tbody tr th {\n",
       "        vertical-align: top;\n",
       "    }\n",
       "\n",
       "    .dataframe thead th {\n",
       "        text-align: right;\n",
       "    }\n",
       "</style>\n",
       "<table border=\"1\" class=\"dataframe\">\n",
       "  <thead>\n",
       "    <tr style=\"text-align: right;\">\n",
       "      <th></th>\n",
       "      <th>HomeTeam</th>\n",
       "      <th>FTHG</th>\n",
       "      <th>FTAG</th>\n",
       "      <th>AwayTeam</th>\n",
       "    </tr>\n",
       "  </thead>\n",
       "  <tbody>\n",
       "    <tr>\n",
       "      <th>3035</th>\n",
       "      <td>Stoke City (2015/2016)</td>\n",
       "      <td>2</td>\n",
       "      <td>1</td>\n",
       "      <td>West Ham United (2015/2016)</td>\n",
       "    </tr>\n",
       "    <tr>\n",
       "      <th>3036</th>\n",
       "      <td>Swansea City (2015/2016)</td>\n",
       "      <td>1</td>\n",
       "      <td>1</td>\n",
       "      <td>Manchester City (2015/2016)</td>\n",
       "    </tr>\n",
       "    <tr>\n",
       "      <th>3037</th>\n",
       "      <td>Watford (2015/2016)</td>\n",
       "      <td>2</td>\n",
       "      <td>2</td>\n",
       "      <td>Sunderland (2015/2016)</td>\n",
       "    </tr>\n",
       "    <tr>\n",
       "      <th>3038</th>\n",
       "      <td>West Bromwich Albion (2015/2016)</td>\n",
       "      <td>1</td>\n",
       "      <td>1</td>\n",
       "      <td>Liverpool (2015/2016)</td>\n",
       "    </tr>\n",
       "    <tr>\n",
       "      <th>3039</th>\n",
       "      <td>Manchester United (2015/2016)</td>\n",
       "      <td>3</td>\n",
       "      <td>1</td>\n",
       "      <td>Bournemouth (2015/2016)</td>\n",
       "    </tr>\n",
       "  </tbody>\n",
       "</table>\n",
       "</div>"
      ],
      "text/plain": [
       "                              HomeTeam  FTHG  FTAG  \\\n",
       "3035            Stoke City (2015/2016)     2     1   \n",
       "3036          Swansea City (2015/2016)     1     1   \n",
       "3037               Watford (2015/2016)     2     2   \n",
       "3038  West Bromwich Albion (2015/2016)     1     1   \n",
       "3039     Manchester United (2015/2016)     3     1   \n",
       "\n",
       "                         AwayTeam  \n",
       "3035  West Ham United (2015/2016)  \n",
       "3036  Manchester City (2015/2016)  \n",
       "3037       Sunderland (2015/2016)  \n",
       "3038        Liverpool (2015/2016)  \n",
       "3039      Bournemouth (2015/2016)  "
      ]
     },
     "execution_count": 277,
     "metadata": {},
     "output_type": "execute_result"
    }
   ],
   "source": [
    "d = dataset[[\"home_team\",\"away_team\",\"season\",\"home_team_goal\",\"away_team_goal\"]]\n",
    "\n",
    "d_sumry=pd.DataFrame({\"HomeTeam\":d.home_team + \" (\" + d.season + \")\", \"FTHG\":d.home_team_goal,  \n",
    "                      \"FTAG\":d.away_team_goal, \"AwayTeam\":d.away_team + \" (\" + d.season + \")\"})\n",
    "# Note: FTHG means full time home goal (score of home team at full time) \n",
    "#  And  FTAG means full time away goal (score of away team at full time)\n",
    "\n",
    "d_sumry.tail()"
   ]
  },
  {
   "cell_type": "markdown",
   "id": "588e73fd",
   "metadata": {},
   "source": [
    "### To proceed from here, we neeed to find:\n",
    "### 1. The average number of goals scored by the home team per season\n",
    "### 2. The average number of goals scored by the  home team against a particular team in a given season\n",
    "### 3. The average number of goals scored by the away team  per season\n",
    "### 4. The average number of goals scored by the away team against a particular team in a given season. \n",
    "\n",
    "### To break it down, we need to find the average goal scoring record of both home and away teams each season, as well as the average goals scored against each team. When a match is to be played, we will use the average goal scoring record of the season as well as the goal scoring record against thier opponent to predict the outcome of the game.\n",
    "\n",
    "### Having explained that, It's time to write some code to accomplish it. Let's get it going..."
   ]
  },
  {
   "cell_type": "code",
   "execution_count": 281,
   "id": "6dcbe021",
   "metadata": {},
   "outputs": [
    {
     "data": {
      "text/html": [
       "<div>\n",
       "<style scoped>\n",
       "    .dataframe tbody tr th:only-of-type {\n",
       "        vertical-align: middle;\n",
       "    }\n",
       "\n",
       "    .dataframe tbody tr th {\n",
       "        vertical-align: top;\n",
       "    }\n",
       "\n",
       "    .dataframe thead th {\n",
       "        text-align: right;\n",
       "    }\n",
       "</style>\n",
       "<table border=\"1\" class=\"dataframe\">\n",
       "  <thead>\n",
       "    <tr style=\"text-align: right;\">\n",
       "      <th></th>\n",
       "      <th>HomeTeam</th>\n",
       "      <th>FTHG</th>\n",
       "      <th>FTAG</th>\n",
       "      <th>AwayTeam</th>\n",
       "      <th>HTAGS</th>\n",
       "      <th>HTAGT</th>\n",
       "      <th>ATAGT</th>\n",
       "      <th>ATAGS</th>\n",
       "    </tr>\n",
       "  </thead>\n",
       "  <tbody>\n",
       "    <tr>\n",
       "      <th>120</th>\n",
       "      <td>Arsenal (2008/2009)</td>\n",
       "      <td>0</td>\n",
       "      <td>2</td>\n",
       "      <td>Aston Villa (2008/2009)</td>\n",
       "      <td>1.631579</td>\n",
       "      <td>1.421053</td>\n",
       "      <td>0.842105</td>\n",
       "      <td>1.421053</td>\n",
       "    </tr>\n",
       "    <tr>\n",
       "      <th>280</th>\n",
       "      <td>Arsenal (2008/2009)</td>\n",
       "      <td>4</td>\n",
       "      <td>0</td>\n",
       "      <td>Blackburn Rovers (2008/2009)</td>\n",
       "      <td>1.631579</td>\n",
       "      <td>1.947368</td>\n",
       "      <td>0.842105</td>\n",
       "      <td>0.947368</td>\n",
       "    </tr>\n",
       "    <tr>\n",
       "      <th>198</th>\n",
       "      <td>Arsenal (2008/2009)</td>\n",
       "      <td>1</td>\n",
       "      <td>0</td>\n",
       "      <td>Bolton Wanderers (2008/2009)</td>\n",
       "      <td>1.631579</td>\n",
       "      <td>1.684211</td>\n",
       "      <td>0.842105</td>\n",
       "      <td>1.052632</td>\n",
       "    </tr>\n",
       "    <tr>\n",
       "      <th>357</th>\n",
       "      <td>Arsenal (2008/2009)</td>\n",
       "      <td>1</td>\n",
       "      <td>4</td>\n",
       "      <td>Chelsea (2008/2009)</td>\n",
       "      <td>1.631579</td>\n",
       "      <td>0.631579</td>\n",
       "      <td>0.842105</td>\n",
       "      <td>1.842105</td>\n",
       "    </tr>\n",
       "    <tr>\n",
       "      <th>70</th>\n",
       "      <td>Arsenal (2008/2009)</td>\n",
       "      <td>3</td>\n",
       "      <td>1</td>\n",
       "      <td>Everton (2008/2009)</td>\n",
       "      <td>1.631579</td>\n",
       "      <td>0.894737</td>\n",
       "      <td>0.842105</td>\n",
       "      <td>1.263158</td>\n",
       "    </tr>\n",
       "    <tr>\n",
       "      <th>259</th>\n",
       "      <td>Arsenal (2008/2009)</td>\n",
       "      <td>0</td>\n",
       "      <td>0</td>\n",
       "      <td>Fulham (2008/2009)</td>\n",
       "      <td>1.631579</td>\n",
       "      <td>0.947368</td>\n",
       "      <td>0.842105</td>\n",
       "      <td>0.578947</td>\n",
       "    </tr>\n",
       "    <tr>\n",
       "      <th>50</th>\n",
       "      <td>Arsenal (2008/2009)</td>\n",
       "      <td>1</td>\n",
       "      <td>2</td>\n",
       "      <td>Hull City (2008/2009)</td>\n",
       "      <td>1.631579</td>\n",
       "      <td>1.473684</td>\n",
       "      <td>0.842105</td>\n",
       "      <td>1.105263</td>\n",
       "    </tr>\n",
       "    <tr>\n",
       "      <th>174</th>\n",
       "      <td>Arsenal (2008/2009)</td>\n",
       "      <td>1</td>\n",
       "      <td>1</td>\n",
       "      <td>Liverpool (2008/2009)</td>\n",
       "      <td>1.631579</td>\n",
       "      <td>0.736842</td>\n",
       "      <td>0.842105</td>\n",
       "      <td>1.894737</td>\n",
       "    </tr>\n",
       "    <tr>\n",
       "      <th>299</th>\n",
       "      <td>Arsenal (2008/2009)</td>\n",
       "      <td>2</td>\n",
       "      <td>0</td>\n",
       "      <td>Manchester City (2008/2009)</td>\n",
       "      <td>1.631579</td>\n",
       "      <td>1.684211</td>\n",
       "      <td>0.842105</td>\n",
       "      <td>0.947368</td>\n",
       "    </tr>\n",
       "    <tr>\n",
       "      <th>109</th>\n",
       "      <td>Arsenal (2008/2009)</td>\n",
       "      <td>2</td>\n",
       "      <td>1</td>\n",
       "      <td>Manchester United (2008/2009)</td>\n",
       "      <td>1.631579</td>\n",
       "      <td>0.578947</td>\n",
       "      <td>0.842105</td>\n",
       "      <td>1.315789</td>\n",
       "    </tr>\n",
       "  </tbody>\n",
       "</table>\n",
       "</div>"
      ],
      "text/plain": [
       "                HomeTeam  FTHG  FTAG                       AwayTeam     HTAGS  \\\n",
       "120  Arsenal (2008/2009)     0     2        Aston Villa (2008/2009)  1.631579   \n",
       "280  Arsenal (2008/2009)     4     0   Blackburn Rovers (2008/2009)  1.631579   \n",
       "198  Arsenal (2008/2009)     1     0   Bolton Wanderers (2008/2009)  1.631579   \n",
       "357  Arsenal (2008/2009)     1     4            Chelsea (2008/2009)  1.631579   \n",
       "70   Arsenal (2008/2009)     3     1            Everton (2008/2009)  1.631579   \n",
       "259  Arsenal (2008/2009)     0     0             Fulham (2008/2009)  1.631579   \n",
       "50   Arsenal (2008/2009)     1     2          Hull City (2008/2009)  1.631579   \n",
       "174  Arsenal (2008/2009)     1     1          Liverpool (2008/2009)  1.631579   \n",
       "299  Arsenal (2008/2009)     2     0    Manchester City (2008/2009)  1.631579   \n",
       "109  Arsenal (2008/2009)     2     1  Manchester United (2008/2009)  1.631579   \n",
       "\n",
       "        HTAGT     ATAGT     ATAGS  \n",
       "120  1.421053  0.842105  1.421053  \n",
       "280  1.947368  0.842105  0.947368  \n",
       "198  1.684211  0.842105  1.052632  \n",
       "357  0.631579  0.842105  1.842105  \n",
       "70   0.894737  0.842105  1.263158  \n",
       "259  0.947368  0.842105  0.578947  \n",
       "50   1.473684  0.842105  1.105263  \n",
       "174  0.736842  0.842105  1.894737  \n",
       "299  1.684211  0.842105  0.947368  \n",
       "109  0.578947  0.842105  1.315789  "
      ]
     },
     "execution_count": 281,
     "metadata": {},
     "output_type": "execute_result"
    }
   ],
   "source": [
    "# Please note the meaning of the following abbreviations\n",
    "'''\n",
    "    1. HTAGS = home team average goals scored per season \n",
    "    2. HTAGT = home team average goals scored per team\n",
    "    3. ATAGT = Away team average goals scored per team\n",
    "    4. ATAGS = Away team average goals scored per season\n",
    "'''\n",
    "# home team goals average\n",
    "d_sumry['HTAGS'] = d_sumry['FTHG'].groupby(d_sumry['HomeTeam']).transform('mean') \n",
    "\n",
    "# average goals scored against the away team in a given season\n",
    "d_sumry['HTAGT'] = d_sumry['FTHG'].groupby(d_sumry['AwayTeam']).transform('mean') \n",
    "\n",
    "# Average goals scored against the home team in a given season\n",
    "d_sumry['ATAGT'] = d_sumry['FTAG'].groupby(d_sumry['HomeTeam']).transform('mean') \n",
    "# away team goal average\n",
    "d_sumry['ATAGS'] = d_sumry['FTAG'].groupby(d_sumry['AwayTeam']).transform('mean') \n",
    "\n",
    "d_sumry.sort_values(['HomeTeam', 'AwayTeam']).head(10)\n"
   ]
  },
  {
   "cell_type": "code",
   "execution_count": 259,
   "id": "1416a12d",
   "metadata": {},
   "outputs": [
    {
     "data": {
      "text/plain": [
       "(3040, 8)"
      ]
     },
     "execution_count": 259,
     "metadata": {},
     "output_type": "execute_result"
    }
   ],
   "source": [
    "d_sumry.shape"
   ]
  },
  {
   "cell_type": "markdown",
   "id": "5b77414e",
   "metadata": {},
   "source": [
    "### We are edging closer to predicting the outcome of the games, but our dataset has no target values yet. But that shouldn't be a program becuase we can create  target values from the outcome of the games. Since our main aim is to predict whether the home team, wins, draws, or loses the game, let's loop through the dataset and create an array that will have the following values and their implications.\n",
    "#### 1. if w = 1, it means the home team won the match\n",
    "#### 2. if w = 0, it means the game ended in a draw\n",
    "#### 3. if w = -1, it means the home team lost the match.\n",
    "### Let's get this done too..."
   ]
  },
  {
   "cell_type": "code",
   "execution_count": 260,
   "id": "d4200ba9",
   "metadata": {},
   "outputs": [
    {
     "data": {
      "text/html": [
       "<div>\n",
       "<style scoped>\n",
       "    .dataframe tbody tr th:only-of-type {\n",
       "        vertical-align: middle;\n",
       "    }\n",
       "\n",
       "    .dataframe tbody tr th {\n",
       "        vertical-align: top;\n",
       "    }\n",
       "\n",
       "    .dataframe thead th {\n",
       "        text-align: right;\n",
       "    }\n",
       "</style>\n",
       "<table border=\"1\" class=\"dataframe\">\n",
       "  <thead>\n",
       "    <tr style=\"text-align: right;\">\n",
       "      <th></th>\n",
       "      <th>HTAGS</th>\n",
       "      <th>HTAGT</th>\n",
       "      <th>ATAGT</th>\n",
       "      <th>ATAGS</th>\n",
       "      <th>result</th>\n",
       "    </tr>\n",
       "  </thead>\n",
       "  <tbody>\n",
       "    <tr>\n",
       "      <th>0</th>\n",
       "      <td>1.631579</td>\n",
       "      <td>1.789474</td>\n",
       "      <td>0.842105</td>\n",
       "      <td>0.526316</td>\n",
       "      <td>1</td>\n",
       "    </tr>\n",
       "    <tr>\n",
       "      <th>1</th>\n",
       "      <td>1.105263</td>\n",
       "      <td>0.736842</td>\n",
       "      <td>1.315789</td>\n",
       "      <td>1.894737</td>\n",
       "      <td>-1</td>\n",
       "    </tr>\n",
       "    <tr>\n",
       "      <th>2</th>\n",
       "      <td>1.210526</td>\n",
       "      <td>1.421053</td>\n",
       "      <td>1.157895</td>\n",
       "      <td>0.894737</td>\n",
       "      <td>1</td>\n",
       "    </tr>\n",
       "    <tr>\n",
       "      <th>3</th>\n",
       "      <td>1.631579</td>\n",
       "      <td>1.947368</td>\n",
       "      <td>1.052632</td>\n",
       "      <td>0.947368</td>\n",
       "      <td>-1</td>\n",
       "    </tr>\n",
       "    <tr>\n",
       "      <th>4</th>\n",
       "      <td>0.894737</td>\n",
       "      <td>1.842105</td>\n",
       "      <td>1.052632</td>\n",
       "      <td>1.263158</td>\n",
       "      <td>1</td>\n",
       "    </tr>\n",
       "  </tbody>\n",
       "</table>\n",
       "</div>"
      ],
      "text/plain": [
       "      HTAGS     HTAGT     ATAGT     ATAGS  result\n",
       "0  1.631579  1.789474  0.842105  0.526316       1\n",
       "1  1.105263  0.736842  1.315789  1.894737      -1\n",
       "2  1.210526  1.421053  1.157895  0.894737       1\n",
       "3  1.631579  1.947368  1.052632  0.947368      -1\n",
       "4  0.894737  1.842105  1.052632  1.263158       1"
      ]
     },
     "execution_count": 260,
     "metadata": {},
     "output_type": "execute_result"
    }
   ],
   "source": [
    "# an array to keep the records of the outcome of games\n",
    "outcome = []\n",
    "\n",
    "for g in range(0, len(d_sumry)):\n",
    "    if(d_sumry['FTHG'][g] > d_sumry['FTAG'][g]):\n",
    "        r = 1\n",
    "        outcome.append(r)\n",
    "    elif(d_sumry['FTHG'][g] == d_sumry['FTAG'][g]):\n",
    "        r = 0\n",
    "        outcome.append(r)\n",
    "    else:\n",
    "        r = -1\n",
    "        outcome.append(r)\n",
    "        \n",
    "# Since we now have our target values, Let's create a new dataset out of the existing one to include the target values.\n",
    "\n",
    "data = pd.DataFrame({\"HTAGS\":d_sumry['HTAGS'],\"HTAGT\":d_sumry['HTAGT'],\n",
    "                     \"ATAGT\":d_sumry['ATAGT'],\"ATAGS\":d_sumry['ATAGS'],\"result\":outcome})\n",
    "data.head()"
   ]
  },
  {
   "cell_type": "code",
   "execution_count": null,
   "id": "51517a57",
   "metadata": {},
   "outputs": [],
   "source": []
  },
  {
   "cell_type": "code",
   "execution_count": 261,
   "id": "ce9905e3",
   "metadata": {},
   "outputs": [
    {
     "data": {
      "text/plain": [
       "(3040, 5)"
      ]
     },
     "execution_count": 261,
     "metadata": {},
     "output_type": "execute_result"
    }
   ],
   "source": [
    "data.shape  # to confirm indeed, the dataset hasn't changed"
   ]
  },
  {
   "cell_type": "code",
   "execution_count": 262,
   "id": "b54f2d32",
   "metadata": {},
   "outputs": [
    {
     "data": {
      "text/plain": [
       "pandas.core.frame.DataFrame"
      ]
     },
     "execution_count": 262,
     "metadata": {},
     "output_type": "execute_result"
    }
   ],
   "source": [
    "type(data)"
   ]
  },
  {
   "cell_type": "markdown",
   "id": "638fa285",
   "metadata": {},
   "source": [
    "### Now that we have the dataset in the form that we want, we can create our model. There are tons of models available for selection, but I will go for Sklearn's KNeighbors Model. It is flexible to work with, and I think for this particular task, its performance will be particularly appreciable. I will be using 80% of the dataset to train the model and the rest for testing."
   ]
  },
  {
   "cell_type": "code",
   "execution_count": 263,
   "id": "b3fdb288",
   "metadata": {},
   "outputs": [],
   "source": [
    "target = data.iloc[:, -1]\n",
    "X_data = data.iloc[:, 0:4]\n",
    "\n",
    "# Split dataset into training set and testing set\n",
    "\n",
    "X_train, X_test, y_train, y_test = train_test_split(X_data, target, test_size=0.20, random_state=15)"
   ]
  },
  {
   "cell_type": "code",
   "execution_count": 264,
   "id": "391c6788",
   "metadata": {},
   "outputs": [
    {
     "name": "stdout",
     "output_type": "stream",
     "text": [
      "Accuracy: 57.89%\n"
     ]
    }
   ],
   "source": [
    "# creating the model\n",
    "#kfold = model_selection.KFold(n_splits=2)\n",
    "model = KNeighborsClassifier(n_neighbors = 201, metric = 'minkowski', p = 1)\n",
    "model.fit(X_train,y_train)\n",
    "y_pred = model.predict(X_test)\n",
    "predictions = [round(value) for value in y_pred]\n",
    "# evaluate predictions\n",
    "accuracy = accuracy_score(y_test, predictions)\n",
    "print(\"Accuracy: %.2f%%\" % (accuracy * 100.0))"
   ]
  },
  {
   "cell_type": "markdown",
   "id": "304b8f67",
   "metadata": {},
   "source": [
    "### Calculating and analysing the confusion matrix"
   ]
  },
  {
   "cell_type": "code",
   "execution_count": 265,
   "id": "b962c381",
   "metadata": {},
   "outputs": [],
   "source": [
    "conf_mat = confusion_matrix(y_test, predictions)"
   ]
  },
  {
   "cell_type": "code",
   "execution_count": 266,
   "id": "745980d6",
   "metadata": {},
   "outputs": [
    {
     "data": {
      "text/plain": [
       "array([[ 92,  11,  78],\n",
       "       [ 42,   9,  81],\n",
       "       [ 34,  10, 251]], dtype=int64)"
      ]
     },
     "execution_count": 266,
     "metadata": {},
     "output_type": "execute_result"
    }
   ],
   "source": [
    "conf_mat"
   ]
  },
  {
   "cell_type": "code",
   "execution_count": 267,
   "id": "4681c360",
   "metadata": {},
   "outputs": [],
   "source": [
    "cm_df = pd.DataFrame(conf_mat,\n",
    "                     index = ['Lose','Draw','Win'], \n",
    "                     columns = ['Lose','Draw','Win'])"
   ]
  },
  {
   "cell_type": "code",
   "execution_count": 268,
   "id": "34a175bd",
   "metadata": {},
   "outputs": [
    {
     "data": {
      "image/png": "[encoded data removed]",
      "text/plain": [
       "<Figure size 648x504 with 2 Axes>"
      ]
     },
     "metadata": {
      "needs_background": "light"
     },
     "output_type": "display_data"
    }
   ],
   "source": [
    "#Plotting the confusion matrix\n",
    "plt.figure(figsize=(9,7))\n",
    "sns.heatmap(cm_df, annot=True)\n",
    "plt.title('Confusion Matrix', fontdict={'fontsize': 18})\n",
    "plt.ylabel('Actual Values', fontdict={'fontsize': 15})\n",
    "plt.xlabel('Predicted Values', fontdict={'fontsize': 15})\n",
    "plt.show()"
   ]
  },
  {
   "cell_type": "code",
   "execution_count": null,
   "id": "8f4e3f73",
   "metadata": {},
   "outputs": [],
   "source": []
  },
  {
   "cell_type": "code",
   "execution_count": null,
   "id": "15f87014",
   "metadata": {},
   "outputs": [],
   "source": []
  }
 ],
 "metadata": {
  "kernelspec": {
   "display_name": "Python 3 (ipykernel)",
   "language": "python",
   "name": "python3"
  },
  "language_info": {
   "codemirror_mode": {
    "name": "ipython",
    "version": 3
   },
   "file_extension": ".py",
   "mimetype": "text/x-python",
   "name": "python",
   "nbconvert_exporter": "python",
   "pygments_lexer": "ipython3",
   "version": "3.9.7"
  }
 },
 "nbformat": 4,
 "nbformat_minor": 5
}
